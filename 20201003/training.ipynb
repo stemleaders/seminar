{
 "cells": [
  {
   "cell_type": "markdown",
   "metadata": {
    "colab_type": "text",
    "id": "cOB-CzasQgkt"
   },
   "source": [
    "# 2020/09/26 定期勉強会 データ分析演習"
   ]
  },
  {
   "cell_type": "markdown",
   "metadata": {
    "colab_type": "text",
    "id": "c7_LM5gLQgkx"
   },
   "source": [
    "## ライブラリの読み込み\n",
    "<br>\n",
    "分析に使用するライブラリを読み込みます。ライブラリを読み込んでおくことで、できることが増えます。"
   ]
  },
  {
   "cell_type": "code",
   "execution_count": null,
   "metadata": {
    "colab": {},
    "colab_type": "code",
    "id": "QXDqegVUQgkz"
   },
   "outputs": [],
   "source": [
    "import pandas as pd\n",
    "import numpy as np\n",
    "import matplotlib.pyplot as plt\n",
    "import seaborn as sns\n",
    "import statsmodels.api as sm\n",
    "import scipy.stats as sp\n",
    "from sklearn.datasets import load_boston"
   ]
  },
  {
   "cell_type": "markdown",
   "metadata": {
    "colab_type": "text",
    "id": "VHlLgBNDQgk6"
   },
   "source": [
    "## データの読み込み\n",
    "<br>\n",
    "今回はライブラリのデータを使用します。\n",
    "<br>\n",
    "ライブラリを読み込んでいたおかげで、データを簡単に読み込めるようになりました。"
   ]
  },
  {
   "cell_type": "code",
   "execution_count": null,
   "metadata": {
    "colab": {},
    "colab_type": "code",
    "id": "_zVKAymfQgk8"
   },
   "outputs": [],
   "source": [
    "data = load_boston()"
   ]
  },
  {
   "cell_type": "code",
   "execution_count": null,
   "metadata": {
    "colab": {},
    "colab_type": "code",
    "id": "7qHrsp53Huff"
   },
   "outputs": [],
   "source": [
    "# データを扱いやすいようにpandasのdata.frameに変換する\n",
    "df = pd.DataFrame(data.data, columns = data.feature_names).assign(MEDV=np.array(data.target))"
   ]
  },
  {
   "cell_type": "markdown",
   "metadata": {
    "colab_type": "text",
    "id": "cyQGen0pQglH"
   },
   "source": [
    "### データの軽い確認\n",
    "<br>\n",
    "データの頭5行何列か、という構造を軽く確認します。"
   ]
  },
  {
   "cell_type": "code",
   "execution_count": null,
   "metadata": {
    "colab": {},
    "colab_type": "code",
    "id": "PyIszKqLGxpD"
   },
   "outputs": [],
   "source": [
    "df.head()"
   ]
  },
  {
   "cell_type": "markdown",
   "metadata": {
    "colab_type": "text",
    "id": "yZ5wO_f73oOt"
   },
   "source": [
    "### 変数の説明\n",
    "\n",
    "| カラム | 説明 |\n",
    "| ---- | ---- |\n",
    "| CRIM | 町ごとの一人当たりの犯罪率 |\n",
    "| ZN | 宅地の比率が25,000平方フィートを超える敷地に区画されている。 |\n",
    "| INDUS |\t町当たりの非小売業エーカーの割合 |\n",
    "| CHAS | チャーリーズ川ダミー変数（川の境界にある場合は1、それ以外の場合は0） |\n",
    "| NOX | 一酸化窒素濃度（1000万分の1） |\n",
    "| RM | 1住戸あたりの平均部屋数 |\n",
    "| AGE | 1940年以前に建設された所有占有ユニットの年齢比率 |\n",
    "| DIS | 5つのボストンの雇用センターまでの加重距離 |\n",
    "| RAD | ラジアルハイウェイへのアクセス可能性の指標 |\n",
    "| TAX |\t10,000ドルあたりの税全額固定資産税率 |\n",
    "| PTRATIO |\t生徒教師の比率 |\n",
    "| B | 町における黒人の割合 |\n",
    "| LSTAT | 人口当たり地位が低い率 |\n",
    "| MEDV | 1000ドルでの所有者居住住宅の中央値 |"
   ]
  },
  {
   "cell_type": "markdown",
   "metadata": {
    "colab_type": "text",
    "id": "KMKeSuPiQglT"
   },
   "source": [
    "## 仮説の確認\n",
    "<br>\n",
    "仮説：住宅価格(1000$)は、「非小売業エーカーの割合(%)」、「平均部屋数(部屋)」、「税全額固定資産税率(部屋)」、「生徒教師の比率(%)」、「地位が低い人の割合(%)」によって算出される。"
   ]
  },
  {
   "cell_type": "markdown",
   "metadata": {
    "colab_type": "text",
    "id": "FKQ-zByLQglU"
   },
   "source": [
    "## 使用する変数\n",
    "<br>\n",
    "\n",
    "| 目的変数（予測したい値） | 説明 |\n",
    "| ---- | ---- |\n",
    "| MEDV | 住宅価格 |\n",
    "\n",
    "<br>\n",
    "\n",
    "| 説明変数（予測したい値に影響を与える変数） | 説明 |\n",
    "| ---- | ---- |\n",
    "| RM | 1住戸あたりの平均部屋数 |\n",
    "| PTRATIO |\t生徒教師の比率 |"
   ]
  },
  {
   "cell_type": "markdown",
   "metadata": {
    "colab_type": "text",
    "id": "ePZ9D2VJQglV"
   },
   "source": [
    "## データ収集\n",
    "<br>\n",
    "仮説に沿ったデータのみを抽出する。"
   ]
  },
  {
   "cell_type": "code",
   "execution_count": null,
   "metadata": {},
   "outputs": [],
   "source": [
    "# データフレームの列の取り出し方\n",
    "df['CRIM']"
   ]
  },
  {
   "cell_type": "code",
   "execution_count": null,
   "metadata": {},
   "outputs": [],
   "source": [
    "# 複数取り出す\n",
    "df[['CRIM', 'ZN']]"
   ]
  },
  {
   "cell_type": "code",
   "execution_count": null,
   "metadata": {
    "colab": {},
    "colab_type": "code",
    "id": "4c4rjFRPQglW"
   },
   "outputs": [],
   "source": [
    "# 問題\n",
    "# RM, PTRATTO, MEDVだけを取り出して、変数dfにおさめてみよう。\n"
   ]
  },
  {
   "cell_type": "markdown",
   "metadata": {
    "colab_type": "text",
    "id": "i3og2P1lQglZ"
   },
   "source": [
    "### データの確認・可視化\n",
    "<br>\n",
    "変数の数とデータ件数の確認。"
   ]
  },
  {
   "cell_type": "code",
   "execution_count": null,
   "metadata": {
    "colab": {},
    "colab_type": "code",
    "id": "VSzYHceGQglZ"
   },
   "outputs": [],
   "source": [
    "print('(行数, 列数) = ', df.shape)"
   ]
  },
  {
   "cell_type": "markdown",
   "metadata": {
    "colab_type": "text",
    "id": "6qgoCPw3Qglp"
   },
   "source": [
    "データの情報を確認する。"
   ]
  },
  {
   "cell_type": "code",
   "execution_count": null,
   "metadata": {
    "colab": {},
    "colab_type": "code",
    "id": "sMRbhMTiQglp"
   },
   "outputs": [],
   "source": [
    "df.info()"
   ]
  },
  {
   "cell_type": "markdown",
   "metadata": {
    "colab_type": "text",
    "id": "LQ7JxjStQglr"
   },
   "source": [
    "### 欠損値の確認"
   ]
  },
  {
   "cell_type": "code",
   "execution_count": null,
   "metadata": {
    "colab": {},
    "colab_type": "code",
    "id": "N5btxsRqQgls"
   },
   "outputs": [],
   "source": [
    "print('Train columns with null values:\\n{}' .format(df.isnull().sum()))"
   ]
  },
  {
   "cell_type": "markdown",
   "metadata": {
    "colab_type": "text",
    "id": "_fo7niyRQglv"
   },
   "source": [
    "### データの基礎統計量の確認\n",
    "descrive()関数で基礎統計量を確認できるよ\n",
    "<br>\n",
    "\n",
    "| 項目名 | 説明 |\n",
    "| ---- | ---- |\n",
    "| count |\t要素の個数 |\n",
    "| mean |\t平均 |\n",
    "| std |\t標準偏差 |\n",
    "| min |\t最小値 |\n",
    "| 25% |\t第一四分位数 |\n",
    "| 50% |\t中央値 |\n",
    "| 75% |\t第三四分位数 |\n",
    "| max |\t最大値 |"
   ]
  },
  {
   "cell_type": "code",
   "execution_count": null,
   "metadata": {
    "colab": {},
    "colab_type": "code",
    "id": "Ttw4js4ZQglv"
   },
   "outputs": [],
   "source": [
    "# 問題\n",
    "# 変数dfの基礎統計量を確認してみよう\n"
   ]
  },
  {
   "cell_type": "markdown",
   "metadata": {
    "colab_type": "text",
    "id": "lWf0pUmTQgly"
   },
   "source": [
    "相関係数の算出\n",
    "\n",
    "corr()関数で相関係数を算出できるよ"
   ]
  },
  {
   "cell_type": "code",
   "execution_count": null,
   "metadata": {
    "colab": {},
    "colab_type": "code",
    "id": "Qpz9zVuEQgly"
   },
   "outputs": [],
   "source": [
    "# 問題\n",
    "# 変数dfの相関係数を確認してみよう"
   ]
  },
  {
   "cell_type": "markdown",
   "metadata": {
    "colab_type": "text",
    "id": "obFpyMJoQgl0"
   },
   "source": [
    "相関係数を見やすく。\n",
    "\n",
    "seabornライブラリを使ってみよう。\n",
    "seabornはデータの可視化(グラフ作成)を行うPythonライブラリです。"
   ]
  },
  {
   "cell_type": "code",
   "execution_count": null,
   "metadata": {
    "colab": {},
    "colab_type": "code",
    "id": "rNGIIwAkQgl1"
   },
   "outputs": [],
   "source": [
    "sns.set_context('talk')\n",
    "fig = plt.subplots(figsize = (8, 8))\n",
    "\n",
    "sns.heatmap(df_corr, annot = True, fmt = '.2f', cmap = 'Blues', square = False)"
   ]
  },
  {
   "cell_type": "markdown",
   "metadata": {
    "colab_type": "text",
    "id": "JHmCxLe4Qgl3"
   },
   "source": [
    "全体のヒストグラムと散布図の描画。"
   ]
  },
  {
   "cell_type": "code",
   "execution_count": null,
   "metadata": {
    "colab": {},
    "colab_type": "code",
    "id": "l15OwERIQgl3"
   },
   "outputs": [],
   "source": [
    "sns.pairplot(df)"
   ]
  },
  {
   "cell_type": "markdown",
   "metadata": {
    "colab_type": "text",
    "id": "pOynXwUmQgl5"
   },
   "source": [
    "### 目的変数のみ確認"
   ]
  },
  {
   "cell_type": "markdown",
   "metadata": {
    "colab_type": "text",
    "id": "rtxPqse4Qgl5"
   },
   "source": [
    "ヒストグラム描画\n",
    "\n",
    "列に対してhist()関数を用いることで描画できるよ"
   ]
  },
  {
   "cell_type": "code",
   "execution_count": null,
   "metadata": {
    "colab": {},
    "colab_type": "code",
    "id": "ZdT9s1_uQgl5"
   },
   "outputs": [],
   "source": [
    "# 問題\n",
    "# matplotlibライブラリを使ってMEDVをヒストグラム描画してみよう\n",
    "%matplotlib inline\n",
    "\n",
    "# できたらきれいにしてみよう\n",
    "# 引数に, binsを取ることでヒストグラムの本数を決められるよ\n",
    "# 引数に, figsizeを（リストで）取ることで、描画サイズを決められるよ"
   ]
  },
  {
   "cell_type": "markdown",
   "metadata": {
    "colab_type": "text",
    "id": "uPA7OX9BQgl7"
   },
   "source": [
    "箱ひげ図描画"
   ]
  },
  {
   "cell_type": "markdown",
   "metadata": {
    "colab_type": "text",
    "id": "i4aMu8jTQgl-"
   },
   "source": [
    "### 説明変数のみ確認"
   ]
  },
  {
   "cell_type": "markdown",
   "metadata": {
    "colab_type": "text",
    "id": "fGlqXTucQgl-"
   },
   "source": [
    "ヒストグラム描画"
   ]
  },
  {
   "cell_type": "code",
   "execution_count": null,
   "metadata": {
    "colab": {},
    "colab_type": "code",
    "id": "QWf9OMJYQgl_"
   },
   "outputs": [],
   "source": [
    "# 問題\n",
    "# RMとPTRATIOを描画してみよう\n",
    "%matplotlib inline"
   ]
  },
  {
   "cell_type": "markdown",
   "metadata": {
    "colab_type": "text",
    "id": "UeukB8bOQgmA"
   },
   "source": [
    "## データ加工"
   ]
  },
  {
   "cell_type": "markdown",
   "metadata": {
    "colab_type": "text",
    "id": "ZknuST0YQgmM"
   },
   "source": [
    "### 外れ値対処"
   ]
  },
  {
   "cell_type": "code",
   "execution_count": null,
   "metadata": {
    "colab": {},
    "colab_type": "code",
    "id": "qcEapkKYQgmN"
   },
   "outputs": [],
   "source": [
    "# 問題\n",
    "# PTRATIOの外れ値を確認してみよう\n",
    "# matplotlibのboxplot(DATAFRAMEの列)で描画できるよ\n",
    "%matplotlib inline\n"
   ]
  },
  {
   "cell_type": "markdown",
   "metadata": {
    "colab_type": "text",
    "id": "9L2FrNUyQgmP"
   },
   "source": [
    "外れ値の除去。"
   ]
  },
  {
   "cell_type": "code",
   "execution_count": null,
   "metadata": {
    "colab": {},
    "colab_type": "code",
    "id": "DAOWJA4pQgmP"
   },
   "outputs": [],
   "source": [
    "df.query('PTRATIO >= 13', inplace = True)"
   ]
  },
  {
   "cell_type": "code",
   "execution_count": null,
   "metadata": {
    "colab": {},
    "colab_type": "code",
    "id": "ySfKyQZTQgmR"
   },
   "outputs": [],
   "source": [
    "# 問題\n",
    "# 外れ値除去したPTRATIOを可視化しよう\n",
    "%matplotlib inline\n"
   ]
  },
  {
   "cell_type": "code",
   "execution_count": null,
   "metadata": {
    "colab": {},
    "colab_type": "code",
    "id": "avzoC44PQgmT"
   },
   "outputs": [],
   "source": [
    "# 問題\n",
    "# ふたたび相関係数を確認してみよう\n"
   ]
  },
  {
   "cell_type": "code",
   "execution_count": null,
   "metadata": {
    "colab": {},
    "colab_type": "code",
    "id": "5EBO5R_BQgmV"
   },
   "outputs": [],
   "source": [
    "# seabornライブラリ\n",
    "sns.set_context('talk')\n",
    "fig = plt.subplots(figsize = (8, 8))\n",
    " \n",
    "sns.heatmap(df_corr, annot = True, fmt = '.2f', cmap = 'Blues', square = True)"
   ]
  },
  {
   "cell_type": "code",
   "execution_count": null,
   "metadata": {
    "colab": {},
    "colab_type": "code",
    "id": "F_Z90fY3QgmY"
   },
   "outputs": [],
   "source": [
    "sns.pairplot(df)"
   ]
  },
  {
   "cell_type": "markdown",
   "metadata": {
    "colab_type": "text",
    "id": "I1nVunfmQgma"
   },
   "source": [
    "## 回帰分析"
   ]
  },
  {
   "cell_type": "markdown",
   "metadata": {
    "colab_type": "text",
    "id": "OVYHpE4TQgma"
   },
   "source": [
    "一旦データを再確認する。"
   ]
  },
  {
   "cell_type": "code",
   "execution_count": null,
   "metadata": {
    "colab": {},
    "colab_type": "code",
    "id": "dbrK5q-CQgma"
   },
   "outputs": [],
   "source": [
    "# 問題\n",
    "# 先頭5行を見る。\n"
   ]
  },
  {
   "cell_type": "code",
   "execution_count": null,
   "metadata": {
    "colab": {},
    "colab_type": "code",
    "id": "mE2piTHwQgmc"
   },
   "outputs": [],
   "source": [
    "df.info()"
   ]
  },
  {
   "cell_type": "code",
   "execution_count": null,
   "metadata": {
    "colab": {},
    "colab_type": "code",
    "id": "S4jP5e5oQgme"
   },
   "outputs": [],
   "source": [
    "# 問題\n",
    "# 変数dfの基礎統計量を確認してみよう\n"
   ]
  },
  {
   "cell_type": "markdown",
   "metadata": {
    "colab_type": "text",
    "id": "efh2gdHeQgmi"
   },
   "source": [
    "### モデル構築\n",
    "<br>\n",
    "\n",
    "| 目的変数 | 説明 |\n",
    "| ---- | ---- |\n",
    "| MEDV | 住宅価格 |\n",
    "\n",
    "<br>\n",
    "\n",
    "| 説明変数 | 説明 |\n",
    "| ---- | ---- |\n",
    "| RM | 1住戸あたりの平均部屋数 |\n",
    "| PTRATIO |\t生徒教師の比率 |\n",
    "\n",
    "<br>\n",
    "\n",
    "#### モデル式\n",
    "\n",
    "$ {\\rm MEDV} = \\beta_0 + {\\rm RM} \\: \\times \\beta_1 + {\\rm PTRATIO} \\: \\times \\beta_2 $"
   ]
  },
  {
   "cell_type": "code",
   "execution_count": null,
   "metadata": {
    "colab": {},
    "colab_type": "code",
    "id": "TEHCYakExQIY"
   },
   "outputs": [],
   "source": [
    "# 説明変数\n",
    "x = df[['RM', 'PTRATIO']]\n",
    "# 目的変数\n",
    "y = df['MEDV']\n",
    "X = sm.add_constant(x)\n",
    "\n",
    "model = sm.OLS(y, X)\n",
    "result = model.fit()\n",
    "result.summary()"
   ]
  },
  {
   "cell_type": "markdown",
   "metadata": {
    "colab_type": "text",
    "id": "vfpoNCrZQgmk"
   },
   "source": [
    "### 着目する値\n",
    "<br>\n",
    "・Adj. R-squared: 自由度調整済み決定係数\n",
    "\n",
    "・Prob (F-statistic): モデルに対するF検定の有意確率\n",
    "\n",
    "・coef: 偏回帰係数\n",
    "\n",
    "・P>|t|: 偏回帰係数に対するt検定の有意確率\n",
    "\n",
    "・（必要に応じて）AIC: 赤池情報量基準\n",
    "\n",
    "・（必要に応じて）BIC: ベイズ情報量基準"
   ]
  },
  {
   "cell_type": "markdown",
   "metadata": {
    "colab_type": "text",
    "id": "twzrQe5gQgmy"
   },
   "source": [
    "## 影響度比較"
   ]
  },
  {
   "cell_type": "code",
   "execution_count": null,
   "metadata": {
    "colab": {},
    "colab_type": "code",
    "id": "VXszIQYOQgmy"
   },
   "outputs": [],
   "source": [
    "x = df[['RM', 'PTRATIO']]\n",
    "y = df['MEDV']\n",
    "y.reset_index(inplace=True, drop=True)\n",
    "x_n = pd.DataFrame(sp.stats.zscore(x, axis=0), \\\n",
    "                   columns=['RM', 'PTRATIO'])\n",
    "X_n = sm.add_constant(x_n)\n",
    "\n",
    "model = sm.OLS(y, X_n)\n",
    "result = model.fit()\n",
    "result.summary()"
   ]
  },
  {
   "cell_type": "code",
   "execution_count": null,
   "metadata": {},
   "outputs": [],
   "source": [
    "# 問題\n",
    "# 説明変数を増やしてやってみよう\n",
    "# 例の値を超えられるかな？\n"
   ]
  }
 ],
 "metadata": {
  "colab": {
   "collapsed_sections": [],
   "name": "dataProcessView.ipynb",
   "provenance": [],
   "toc_visible": true
  },
  "kernelspec": {
   "display_name": "Python 3",
   "language": "python",
   "name": "python3"
  },
  "language_info": {
   "codemirror_mode": {
    "name": "ipython",
    "version": 3
   },
   "file_extension": ".py",
   "mimetype": "text/x-python",
   "name": "python",
   "nbconvert_exporter": "python",
   "pygments_lexer": "ipython3",
   "version": "3.7.4"
  }
 },
 "nbformat": 4,
 "nbformat_minor": 4
}
