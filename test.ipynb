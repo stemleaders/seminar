{
 "cells": [
  {
   "cell_type": "code",
   "execution_count": null,
   "metadata": {},
   "outputs": [],
   "source": [
    "import pandas as pd"
   ]
  },
  {
   "cell_type": "code",
   "execution_count": null,
   "metadata": {},
   "outputs": [],
   "source": [

    "# 福島\n",
    "pd.date_range('20130101', periods=6)"

   ]
  },
  {
   "cell_type": "code",
   "execution_count": null,
   "metadata": {},
   "outputs": [],
   "source": [

    "# 松山\n",
    "import numpy as np\n",
    "import matplotlib.pyplot as plt\n",
    " \n",
    "from scipy.stats import norm\n",
    "import matplotlib.pyplot as plt\n",
    " \n",
    "x = np.arange(-10,10,0.01)\n",
    "#ガウス分布の確率密度関数,平均 0、標準偏差1\n",
    "y = norm.pdf(x,0,1)\n",
    " \n",
    "plt.plot(x,y,color='r')\n",
    "plt.xlim(-10,10)"

   ]
  },
  {
   "cell_type": "code",
   "execution_count": null,

   "metadata": {
    "scrolled": true
   },
   "outputs": [],
   "source": [
    "# 藤田\n",
    "a = input()\n",
    "print(a)"

   ]
  }
 ],
 "metadata": {
  "kernelspec": {
   "display_name": "Python 3",
   "language": "python",
   "name": "python3"
  },
  "language_info": {
   "codemirror_mode": {
    "name": "ipython",
    "version": 3
   },
   "file_extension": ".py",
   "mimetype": "text/x-python",
   "name": "python",
   "nbconvert_exporter": "python",
   "pygments_lexer": "ipython3",

   "version": "3.8.3"

  }
 },
 "nbformat": 4,
 "nbformat_minor": 4
}
